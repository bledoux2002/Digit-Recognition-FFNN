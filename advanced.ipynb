{
 "cells": [
  {
   "cell_type": "markdown",
   "id": "ea903838",
   "metadata": {},
   "source": [
    "### Advanced FFNN"
   ]
  },
  {
   "cell_type": "code",
   "execution_count": null,
   "id": "bf8da2de",
   "metadata": {
    "vscode": {
     "languageId": "plaintext"
    }
   },
   "outputs": [],
   "source": [
    "# tensorflow"
   ]
  }
 ],
 "metadata": {
  "language_info": {
   "name": "python"
  }
 },
 "nbformat": 4,
 "nbformat_minor": 5
}
