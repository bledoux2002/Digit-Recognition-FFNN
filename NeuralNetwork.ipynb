{
 "cells": [
  {
   "cell_type": "markdown",
   "id": "4e5040cf",
   "metadata": {},
   "source": [
    "# Basic FFNN"
   ]
  },
  {
   "cell_type": "markdown",
   "id": "991524a1",
   "metadata": {},
   "source": [
    "## Dependencies"
   ]
  },
  {
   "cell_type": "code",
   "execution_count": 1,
   "id": "7049339f",
   "metadata": {},
   "outputs": [],
   "source": [
    "import time\n",
    "import os\n",
    "import torch\n",
    "import torchvision\n",
    "import torchvision.datasets as datasets\n",
    "import matplotlib.pyplot as plt\n",
    "import numpy as np"
   ]
  },
  {
   "cell_type": "markdown",
   "id": "59570a68",
   "metadata": {},
   "source": [
    "## Neural Network Class"
   ]
  },
  {
   "cell_type": "code",
   "execution_count": 2,
   "id": "08f6fc2f",
   "metadata": {},
   "outputs": [],
   "source": [
    "class NN(torch.nn.Module):\n",
    "\n",
    "    def __init__(self, hidden_layers:list[int] = [1024], activation_fn = torch.nn.ReLU()):\n",
    "        super().__init__()\n",
    "\n",
    "        # Topology\n",
    "        self.input_layer = torch.nn.Linear(28*28, hidden_layers[0]) # Input images are 28x28\n",
    "        self.hidden_layers = torch.nn.ModuleList()\n",
    "        num_hidden_layers = len(hidden_layers) - 1\n",
    "        for i in range(num_hidden_layers):\n",
    "            self.hidden_layers.append(torch.nn.Linear(hidden_layers[i], hidden_layers[i + 1]))\n",
    "        self.output_layer = torch.nn.Linear(hidden_layers[-1], 10) # Output predicitons are digits 0-10\n",
    "\n",
    "        self.activation_fn = activation_fn\n",
    "\n",
    "    def forward(self, x):\n",
    "\n",
    "        batch_size, channels, width, height = x.size()\n",
    "        x = x.view(batch_size, -1)  # create an array of flattened images with dimension (batch_size, num_pixels)\n",
    "         \n",
    "        x = self.activation_fn(self.input_layer(x))\n",
    "        for layer in self.hidden_layers:\n",
    "            x = self.activation_fn(layer(x))\n",
    "        x = self.output_layer(x)  # we'll avoid \"squashing\" our final outputs by omitting the sigmoid\n",
    "        \n",
    "        return x"
   ]
  },
  {
   "cell_type": "markdown",
   "id": "5de83e5d",
   "metadata": {},
   "source": [
    "## Training Loop"
   ]
  },
  {
   "cell_type": "code",
   "execution_count": null,
   "id": "d192a04e",
   "metadata": {},
   "outputs": [],
   "source": [
    "def training_loop(save_path, epochs, batch_size, hidden_layers, activation_fn, loss_function, learning_rate, momentum, device=\"cpu\"):\n",
    "    \"\"\"\n",
    "    Train a neural network model for digit recognition on the MNIST dataset.\n",
    "    \n",
    "    Parameters\n",
    "    ----------\n",
    "    save_path (str):  path/filename for model checkpoint, e.g. 'my_model.pt'\n",
    "    \n",
    "    epochs (int):     number of iterations through the whole dataset for training\n",
    "    \n",
    "    batch_size (int): size of a single batch of inputs\n",
    "    \n",
    "    device (str):     device on which tensors are placed; should be 'cpu' or 'cuda'. \n",
    "                      More on this in the next section!\n",
    "    \n",
    "    Returns\n",
    "    -------\n",
    "    model (nn.Module): final trained model\n",
    "    \n",
    "    save_path (str):   path/filename for model checkpoint, so that we can load our model\n",
    "                       later to test on unseen data\n",
    "    \n",
    "    device (str):      the device on which we carried out training, so we can match it\n",
    "                       when we test the final model on unseen data later\n",
    "    \"\"\"\n",
    "\n",
    "    # initialize model\n",
    "    model = NN(hidden_layers, activation_fn)\n",
    "    model.to(device)\n",
    "\n",
    "    # initialize an optimizer to update our model's parameters during training\n",
    "    optimizer = torch.optim.SGD(model.parameters(), lr=learning_rate, momentum=momentum)\n",
    "\n",
    "    # make a new directory in which to download the MNIST dataset\n",
    "    data_dir = \"./data/\"\n",
    "    \n",
    "    # initialize a Transform object to prepare our data\n",
    "    transform = torchvision.transforms.Compose([\n",
    "        torchvision.transforms.ToTensor(),  # convert image to tensor\n",
    "        lambda x: x>0,  # convert to binary\n",
    "        lambda x: x.float(),  # convert to floats\n",
    "    ])\n",
    "    \n",
    "    dl = not os.path.isdir(f'{data_dir}MNIST') # check if data has been downloaded already\n",
    "\n",
    "    # (Download and) import MNIST data set\n",
    "    mnist_test = torchvision.datasets.MNIST(data_dir, train=False, download=dl, transform=transform)\n",
    "    mnist_train_full = datasets.MNIST(data_dir, train=True, download=dl, transform=transform)\n",
    "    mnist_train, mnist_val = torch.utils.data.random_split(mnist_train_full, [55000, 5000])\n",
    "\n",
    "    # initialize a DataLoader object for each dataset\n",
    "    train_dataloader = torch.utils.data.DataLoader(mnist_train, batch_size=batch_size, shuffle=True)\n",
    "    val_dataloader = torch.utils.data.DataLoader(mnist_val, batch_size=batch_size, shuffle=False)\n",
    "    test_dataloader = torch.utils.data.DataLoader(mnist_test, batch_size=1, shuffle=False)\n",
    "\n",
    "    # a PyTorch categorical cross-entropy loss object\n",
    "    loss_fn = loss_function\n",
    "\n",
    "    # time training process\n",
    "    st = time.time()\n",
    "    train_results = []\n",
    "    valid_results = []\n",
    "\n",
    "    # time to start training!\n",
    "    for epoch_idx, epoch in enumerate(range(epochs)):\n",
    "\n",
    "        # keep track of best validation accuracy; if improved upon, save checkpoint\n",
    "        best_acc = 0.0\n",
    "\n",
    "        # loop through the entire dataset once per epoch\n",
    "        train_loss = 0.0\n",
    "        train_acc = 0.0\n",
    "        train_total = 0\n",
    "        model.train()\n",
    "        for batch_idx, batch in enumerate(train_dataloader):\n",
    "\n",
    "            # clear gradients\n",
    "            optimizer.zero_grad()\n",
    "\n",
    "            # unpack data and labels\n",
    "            x, y = batch\n",
    "            x = x.to(device)\n",
    "            y = y.to(device)\n",
    "\n",
    "            # generate predictions and compute loss\n",
    "            output = model(x)  # (batch_size, 10)\n",
    "            loss = loss_fn(output, y)\n",
    "\n",
    "            # compute accuracy\n",
    "            preds = output.argmax(dim=1)\n",
    "            acc = preds.eq(y).sum().item()/len(y)\n",
    "\n",
    "            # compute gradients and update model parameters\n",
    "            loss.backward()\n",
    "            optimizer.step()\n",
    "\n",
    "            # update statistics\n",
    "            train_loss += (loss * len(x))\n",
    "            train_acc += (acc * len(x))\n",
    "            train_total += len(x)\n",
    "\n",
    "            train_loss /= train_total\n",
    "            train_acc /= train_total\n",
    "            \n",
    "            train_results.append((train_loss, train_acc))\n",
    "\n",
    "        # perform validation once per epoch\n",
    "        val_loss = 0.0\n",
    "        val_acc = 0.0\n",
    "        val_total = 0\n",
    "        model.eval()\n",
    "        for batch_idx, batch in enumerate(val_dataloader):\n",
    "\n",
    "            # don't compute gradients during validation\n",
    "            with torch.no_grad():\n",
    "\n",
    "                # unpack data and labels\n",
    "                x, y = batch\n",
    "                x = x.to(device)\n",
    "                y = y.to(device)\n",
    "\n",
    "                # generate predictions and compute loss\n",
    "                output = model(x)\n",
    "                loss = loss_fn(output, y)\n",
    "\n",
    "                # compute accuracy\n",
    "                preds = output.argmax(dim=1)\n",
    "                acc = preds.eq(y).sum().item()/len(y)\n",
    "\n",
    "                # update statistics\n",
    "                val_loss += (loss * len(x))\n",
    "                val_acc += (acc * len(x))\n",
    "                val_total += len(x)\n",
    "\n",
    "            val_loss /= val_total\n",
    "            val_acc /= val_total\n",
    "            loss_results.append((train_loss, val_loss))\n",
    "            acc_results.append((train_acc, val_acc))\n",
    "        print(f\"Epoch {epoch_idx + 1}: val loss {val_loss :0.3f}, val acc {val_acc :0.3f}, train loss {train_loss :0.3f}, train acc {train_acc :0.3f}\")\n",
    "\n",
    "\n",
    "        if val_acc > best_acc:\n",
    "\n",
    "            best_acc = val_acc\n",
    "            print(f\"New best accuracy; saving model weights to {save_path}\")\n",
    "            torch.save(model.state_dict(), save_path)\n",
    "\n",
    "    print(f\"Total training time (s): {time.time() - st :0.3f}\")\n",
    "    \n",
    "    return model, test_dataloader, acc_results, loss_results"
   ]
  },
  {
   "cell_type": "markdown",
   "id": "304678b9",
   "metadata": {},
   "source": [
    "## Train"
   ]
  },
  {
   "cell_type": "code",
   "execution_count": 14,
   "id": "a2b06ebe",
   "metadata": {},
   "outputs": [
    {
     "name": "stdout",
     "output_type": "stream",
     "text": [
      "Found a CUDA-compatible GPU!\n",
      "Epoch 1: val loss 1.132, val acc 0.695, train loss 2.051, train acc 0.430\n",
      "New best accuracy; saving model weights to ./results/mnist.pt\n",
      "Epoch 2: val loss 0.502, val acc 0.854, train loss 0.673, train acc 0.800\n",
      "New best accuracy; saving model weights to ./results/mnist.pt\n",
      "Epoch 3: val loss 0.401, val acc 0.878, train loss 0.424, train acc 0.874\n",
      "New best accuracy; saving model weights to ./results/mnist.pt\n",
      "Epoch 4: val loss 0.357, val acc 0.892, train loss 0.361, train acc 0.893\n",
      "New best accuracy; saving model weights to ./results/mnist.pt\n",
      "Epoch 5: val loss 0.329, val acc 0.898, train loss 0.324, train acc 0.904\n",
      "New best accuracy; saving model weights to ./results/mnist.pt\n",
      "Epoch 6: val loss 0.301, val acc 0.908, train loss 0.294, train acc 0.912\n",
      "New best accuracy; saving model weights to ./results/mnist.pt\n",
      "Epoch 7: val loss 0.276, val acc 0.915, train loss 0.267, train acc 0.920\n",
      "New best accuracy; saving model weights to ./results/mnist.pt\n",
      "Epoch 8: val loss 0.253, val acc 0.924, train loss 0.243, train acc 0.928\n",
      "New best accuracy; saving model weights to ./results/mnist.pt\n",
      "Epoch 9: val loss 0.231, val acc 0.932, train loss 0.223, train acc 0.934\n",
      "New best accuracy; saving model weights to ./results/mnist.pt\n",
      "Epoch 10: val loss 0.214, val acc 0.934, train loss 0.207, train acc 0.938\n",
      "New best accuracy; saving model weights to ./results/mnist.pt\n",
      "Total training time (s): 70.995\n"
     ]
    }
   ],
   "source": [
    "if torch.cuda.is_available():\n",
    "    print(\"Found a CUDA-compatible GPU!\")\n",
    "    device = torch.device('cuda')\n",
    "else:\n",
    "    print(\"No compatible GPU found; your code will run on the CPU again\")\n",
    "    device = torch.device('cpu')\n",
    "\n",
    "save_path = \"./results/mnist.pt\"\n",
    "epochs = 10\n",
    "batch_size = 60\n",
    "hidden_layers = [128, 256, 128]\n",
    "activation_fn = torch.nn.LeakyReLU()\n",
    "loss_fn = torch.nn.CrossEntropyLoss()\n",
    "learning_rate = 0.001\n",
    "momentum = 0.9\n",
    "\n",
    "model, test_dataloader, acc_results, loss_results = training_loop(save_path, epochs, batch_size, hidden_layers, activation_fn, loss_fn, learning_rate, momentum, device)\n",
    "\n"
   ]
  },
  {
   "cell_type": "markdown",
   "id": "72b5b94a",
   "metadata": {},
   "source": [
    "## Loss and Accuracy"
   ]
  },
  {
   "cell_type": "code",
   "execution_count": 17,
   "id": "e24e8a2b",
   "metadata": {},
   "outputs": [
    {
     "data": {
      "image/png": "[encoded data removed]",
      "text/plain": [
       "<Figure size 640x480 with 1 Axes>"
      ]
     },
     "metadata": {},
     "output_type": "display_data"
    }
   ],
   "source": [
    "plt.figure()\n",
    "x_values = [200 * (i + 1) for i in range(len(acc_results))]\n",
    "\n",
    "train_acc, valid_acc = zip(*acc_results)\n",
    "plt.plot(x_values, train_acc, label='Train Accuracy')\n",
    "plt.plot(x_values, valid_acc, label='Valid Accuracy')\n",
    "\n",
    "plt.xlabel('Step')\n",
    "plt.ylabel('Accuracy')\n",
    "plt.legend()\n",
    "plt.show()"
   ]
  },
  {
   "cell_type": "code",
   "execution_count": null,
   "id": "5be3021f",
   "metadata": {},
   "outputs": [],
   "source": [
    "plt.figure()\n",
    "x_values = [200 * (i + 1) for i in range(len(loss_results))]\n",
    "plt.plot(x_values, acc, label='Test Accuracy')\n",
    "plt.xlabel('Step')\n",
    "plt.ylabel('Accuracy')\n",
    "plt.legend()\n",
    "plt.show()"
   ]
  },
  {
   "cell_type": "markdown",
   "id": "edb6f3c1",
   "metadata": {},
   "source": [
    "## Test"
   ]
  },
  {
   "cell_type": "code",
   "execution_count": 11,
   "id": "5e88808d",
   "metadata": {},
   "outputs": [
    {
     "name": "stdout",
     "output_type": "stream",
     "text": [
      "test loss 0.190, test acc 0.943\n"
     ]
    }
   ],
   "source": [
    "# load best weights\n",
    "model.load_state_dict(torch.load(save_path, map_location=device))\n",
    "\n",
    "test_loss = 0.0\n",
    "test_acc = 0.0\n",
    "test_total = 0\n",
    "model.eval()\n",
    "for batch_idx, batch in enumerate(test_dataloader):\n",
    "\n",
    "    # don't compute gradients during validation\n",
    "    with torch.no_grad():\n",
    "\n",
    "        # unpack data and labels\n",
    "        x, y = batch\n",
    "        x = x.to(device)  # we'll cover this in the next section!\n",
    "        y = y.to(device)  # we'll cover this in the next section!\n",
    "\n",
    "        # generate predictions and compute loss\n",
    "        output = model(x)\n",
    "        loss = loss_fn(output, y)\n",
    "\n",
    "        # compute accuracy\n",
    "        preds = output.argmax(dim=1)\n",
    "        acc = preds.eq(y).sum().item()/len(y)\n",
    "\n",
    "        # update statistics\n",
    "        test_loss += (loss * len(x))\n",
    "        test_acc += (acc * len(x))\n",
    "        test_total += len(x)\n",
    "\n",
    "test_loss /= test_total\n",
    "test_acc /= test_total\n",
    "print(f\"test loss {test_loss :0.3f}, test acc {test_acc :0.3f}\")"
   ]
  },
  {
   "cell_type": "markdown",
   "id": "5b0ce8e3",
   "metadata": {},
   "source": [
    "## Sources\n",
    "- [Torch](https://docs.pytorch.org/docs/stable/index.html)\n",
    "- [NumPy](https://numpy.org/doc/2.2/index.html)"
   ]
  }
 ],
 "metadata": {
  "kernelspec": {
   "display_name": "Python 3",
   "language": "python",
   "name": "python3"
  },
  "language_info": {
   "codemirror_mode": {
    "name": "ipython",
    "version": 3
   },
   "file_extension": ".py",
   "mimetype": "text/x-python",
   "name": "python",
   "nbconvert_exporter": "python",
   "pygments_lexer": "ipython3",
   "version": "3.10.11"
  }
 },
 "nbformat": 4,
 "nbformat_minor": 5
}
