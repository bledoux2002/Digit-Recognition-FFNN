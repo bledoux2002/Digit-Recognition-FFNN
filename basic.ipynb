{
 "cells": [
  {
   "cell_type": "markdown",
   "id": "4e5040cf",
   "metadata": {},
   "source": [
    "# Basic FFNN"
   ]
  },
  {
   "cell_type": "markdown",
   "id": "991524a1",
   "metadata": {},
   "source": [
    "### Dependencies"
   ]
  },
  {
   "cell_type": "code",
   "execution_count": 2,
   "id": "7049339f",
   "metadata": {},
   "outputs": [],
   "source": [
    "import numpy as np"
   ]
  },
  {
   "cell_type": "markdown",
   "id": "8bc57937",
   "metadata": {},
   "source": [
    "### Neural Network Class"
   ]
  },
  {
   "cell_type": "code",
   "execution_count": null,
   "id": "cbf0dc43",
   "metadata": {},
   "outputs": [],
   "source": [
    "class NN:\n",
    "    RNG = np.random.default_rng()\n",
    "\n",
    "    def __init__(self, topology:list[int] = []):\n",
    "        self.topology = topology        # List of sizes of each layer of NN\n",
    "        self.weight_mats = []           # Weight matrices between each layer of NN\n",
    "        \n",
    "        self._init_matrices()\n",
    "\n",
    "    def _init_matrices(self):\n",
    "        # Set up weight matrices with random floats between [0, 1)\n",
    "        # Height of row i, width of row i + 1\n",
    "        if len(self.topology) > 1:\n",
    "            j = 1\n",
    "            for i in range(len(self.topology) - 1):\n",
    "                num_rows = self.topology[i]\n",
    "                num_cols = self.topology[j]\n",
    "                \n",
    "                mat = self.RNG.random(size=(num_rows, num_cols))    # WEIGHT INITIALIZATION very basic right now, should revisit later, also no biases yet\n",
    "                self.weight_mats.append(mat)\n",
    "                j += 1\n",
    "        else:\n",
    "            raise ValueError(\"Topology must include at least 2 layers\")\n",
    "    \n",
    "    def feedforward(self, input_vector):\n",
    "        I = input_vector\n",
    "        for idx, W in enumerate(self.weight_mats):\n",
    "            I = np.dot(I, W)                        # Dot product of nodes and weight matrix\n",
    "\n",
    "            if idx == len(self.weight_mats) - 1:\n",
    "                out_vector = np.tanh(I)             \n",
    "            else:\n",
    "                I = np.tanh(I)                      # Feedforward propagation, apply activation function (will add options later, right now just tanh) to each node\n",
    "        \n",
    "        return out_vector\n",
    "    \n",
    "    # revisit for backpropagation\n"
   ]
  },
  {
   "cell_type": "code",
   "execution_count": 10,
   "id": "3fd42be3",
   "metadata": {},
   "outputs": [
    {
     "name": "stdout",
     "output_type": "stream",
     "text": [
      "[3.25214016 3.60654919 3.29700815 3.02022197 3.37988411 3.11810831\n",
      " 3.4421411  3.34031442 3.52515951 3.23283119]\n"
     ]
    }
   ],
   "source": [
    "topology = [5, 20, 20, 10]\n",
    "sample = NN(topology)\n",
    "output = sample.feedforward([0, 1, 2, 3, 4])\n",
    "print(output)"
   ]
  },
  {
   "cell_type": "markdown",
   "id": "d6d41c8a",
   "metadata": {},
   "source": [
    "## Sources\n",
    "\n",
    "- [Feed Forward](https://medium.com/@andresberejnoi/how-to-build-a-feedforward-neural-network-in-python-andres-berejnoi-a96668c025e5)\n",
    "    - [Back Propagation](https://medium.com/@andresberejnoi/how-to-implement-backpropagation-with-numpy-andres-berejnoi-e7c14f2e683a)\n",
    "    - [Code Repository](https://github.com/andresberejnoi/PublicNotebooks/tree/master/Neural%20Networks)\n",
    "- [NumPy Documentation](https://numpy.org/doc/2.2/index.html)"
   ]
  }
 ],
 "metadata": {
  "kernelspec": {
   "display_name": "Python 3",
   "language": "python",
   "name": "python3"
  },
  "language_info": {
   "codemirror_mode": {
    "name": "ipython",
    "version": 3
   },
   "file_extension": ".py",
   "mimetype": "text/x-python",
   "name": "python",
   "nbconvert_exporter": "python",
   "pygments_lexer": "ipython3",
   "version": "3.10.11"
  }
 },
 "nbformat": 4,
 "nbformat_minor": 5
}
