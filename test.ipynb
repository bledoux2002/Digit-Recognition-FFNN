{
 "cells": [
  {
   "cell_type": "markdown",
   "id": "460e70c8",
   "metadata": {},
   "source": [
    "# Testing Ground"
   ]
  },
  {
   "cell_type": "code",
   "execution_count": null,
   "id": "1fe06c0c",
   "metadata": {},
   "outputs": [],
   "source": [
    "import numpy as np\n"
   ]
  },
  {
   "cell_type": "code",
   "execution_count": null,
   "id": "34f7aa67",
   "metadata": {},
   "outputs": [],
   "source": [
    "\n"
   ]
  },
  {
   "cell_type": "code",
   "execution_count": null,
   "id": "0256c0be",
   "metadata": {},
   "outputs": [
    {
     "name": "stdout",
     "output_type": "stream",
     "text": [
      "[[0.44120941 0.1226432  0.18602535 0.29646466]\n",
      " [0.075399   0.11732317 0.71794501 0.10351687]\n",
      " [0.90145099 0.75143603 0.71577218 0.9327192 ]]\n"
     ]
    }
   ],
   "source": [
    "print()"
   ]
  }
 ],
 "metadata": {
  "kernelspec": {
   "display_name": "Python 3",
   "language": "python",
   "name": "python3"
  },
  "language_info": {
   "codemirror_mode": {
    "name": "ipython",
    "version": 3
   },
   "file_extension": ".py",
   "mimetype": "text/x-python",
   "name": "python",
   "nbconvert_exporter": "python",
   "pygments_lexer": "ipython3",
   "version": "3.10.11"
  }
 },
 "nbformat": 4,
 "nbformat_minor": 5
}
